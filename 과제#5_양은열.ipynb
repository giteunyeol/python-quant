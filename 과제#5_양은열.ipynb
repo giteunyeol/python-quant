{
 "cells": [
  {
   "cell_type": "code",
   "execution_count": 3,
   "id": "127f8133-70a3-4d7a-97e1-1572b6c2d970",
   "metadata": {},
   "outputs": [
    {
     "data": {
      "text/plain": [
       "'\\n<a href=\"https://n.news.naver.com/article/215/0001155913?ntype=RANKING\" \\nclass=\"list_title nclicks(\\'RBP.rnknws\\')\">빗속에 떠난 푸바오…에버랜드 눈물바다</a>\\n'"
      ]
     },
     "execution_count": 3,
     "metadata": {},
     "output_type": "execute_result"
    }
   ],
   "source": [
    "#웹 크롤링이란?\n",
    "#웹 페이지에서 가져와 필요한 부분만 추출하는 것\n",
    "#html 태그 >> 시작 ~ 종료 태그\n",
    "#시작 / 종료 사이에 들어가는 속성은 태그에 추가 정보를 제공\n",
    "\"\"\"\n",
    "<a href=\"https://n.news.naver.com/article/215/0001155913?ntype=RANKING\" \n",
    "class=\"list_title nclicks('RBP.rnknws')\">빗속에 떠난 푸바오…에버랜드 눈물바다</a>\n",
    "\"\"\"\n",
    "#케이스: <span class=\"list_time \">5시간전</span>\n",
    "\n",
    "#블록: \"<div class=\"list_content\">\n",
    "\n",
    "#아무 사이트나 크롤링 하면 안됨\n",
    "\n",
    "                        "
   ]
  },
  {
   "cell_type": "code",
   "execution_count": 4,
   "id": "9bd990f4-886e-4d76-a6f8-d6e1878a4c15",
   "metadata": {},
   "outputs": [],
   "source": [
    "#리퀘스트\n",
    "import requests\n",
    "url = \"https://n.news.naver.com/article/215/0001155913?ntype=RANKING\"\n",
    "agent = \"Mozilla/5.0 (Windows NT 10.0; Win64; x64) AppleWebKit/537.36 (KHTML, like Gecko) Chrome/96.0.4664.45 Safari/537.36\"\n",
    "response = requests.get(url = url, headers = {\"User-Agent\":agent})"
   ]
  },
  {
   "cell_type": "code",
   "execution_count": 5,
   "id": "15848b07-0b1a-4082-8986-2973a77abbd0",
   "metadata": {},
   "outputs": [
    {
     "name": "stdout",
     "output_type": "stream",
     "text": [
      "<class 'requests.models.Response'>\n"
     ]
    }
   ],
   "source": [
    "print(type(response))\n"
   ]
  },
  {
   "cell_type": "code",
   "execution_count": 6,
   "id": "aea41c24-71ca-452d-b80b-5308a09654cf",
   "metadata": {},
   "outputs": [
    {
     "name": "stdout",
     "output_type": "stream",
     "text": [
      "200\n"
     ]
    }
   ],
   "source": [
    "print(response.status_code)"
   ]
  },
  {
   "cell_type": "code",
   "execution_count": 7,
   "id": "261da4b2-b1cd-4087-946c-7b769a475f30",
   "metadata": {},
   "outputs": [
    {
     "name": "stdout",
     "output_type": "stream",
     "text": [
      "<!doctype html>\n",
      "<html lang=\"ko\" data-useragent=\"Mozilla/5.0 (Windows NT 10.0; Win64; x64) AppleWebKit/537.36 (KHTML, like Gecko) Chrome/96.0.4664.45 Safari/537.36\">\n",
      "\t<head>\n",
      "\t\t<meta charset=\"utf-8\">\n",
      "\t\t\n",
      "========================================================================================================================================================================================================\n",
      "b'<!doctype html>\\n<html lang=\"ko\" data-useragent=\"Mozilla/5.0 (Windows NT 10.0; Win64; x64) AppleWebKit/537.36 (KHTML, like Gecko) Chrome/96.0.4664.45 Safari/537.36\">\\n\\t<head>\\n\\t\\t<meta charset=\"utf-8\">\\n\\t\\t'\n"
     ]
    }
   ],
   "source": [
    "res_text = response.text\n",
    "res_content = response.content\n",
    "\n",
    "print(res_text[:200])\n",
    "print('=' * 200)\n",
    "print(res_content[:200])"
   ]
  },
  {
   "cell_type": "code",
   "execution_count": 8,
   "id": "85c9feae-ac13-45bc-b211-505008fac9e2",
   "metadata": {},
   "outputs": [
    {
     "name": "stdout",
     "output_type": "stream",
     "text": [
      "<class 'str'>\n",
      "<class 'bytes'>\n"
     ]
    }
   ],
   "source": [
    "print(type(res_text)) # <class \"str\">\n",
    "print(type(res_content)) # <class \"bytes\">"
   ]
  },
  {
   "cell_type": "code",
   "execution_count": 9,
   "id": "b91d0c6e-467b-41e7-9f04-e85e76e22b6b",
   "metadata": {},
   "outputs": [
    {
     "name": "stdout",
     "output_type": "stream",
     "text": [
      "<class 'bs4.BeautifulSoup'>\n"
     ]
    }
   ],
   "source": [
    "#파싱 / 뷰티풀 수프 이용\n",
    "from bs4 import BeautifulSoup as BS\n",
    "parsed_res_text = BS(res_text)\n",
    "print(type(parsed_res_text))\n"
   ]
  },
  {
   "cell_type": "code",
   "execution_count": 10,
   "id": "50c97d6c-59dd-43d7-aa6a-f052ba3183e9",
   "metadata": {},
   "outputs": [
    {
     "name": "stdout",
     "output_type": "stream",
     "text": [
      "<class 'bs4.BeautifulSoup'>\n"
     ]
    }
   ],
   "source": [
    "parsed_res_text = BS(res_text)\n",
    "print(type(parsed_res_text))"
   ]
  },
  {
   "cell_type": "code",
   "execution_count": 11,
   "id": "5e74ad4d-0ce0-441a-b843-7e39bdaf41c2",
   "metadata": {},
   "outputs": [
    {
     "name": "stdout",
     "output_type": "stream",
     "text": [
      "<a href=\"#ct\">본문 바로가기</a>\n"
     ]
    }
   ],
   "source": [
    "#find로 요소 찾기\n",
    "\n",
    "# 첫 번째 a 태그\n",
    "print(parsed_res_text.find(\"a\"))"
   ]
  },
  {
   "cell_type": "code",
   "execution_count": 14,
   "id": "2e47627f-3a58-4442-9ffa-cd69dc52f557",
   "metadata": {},
   "outputs": [],
   "source": [
    "#증권사 리포트\n",
    "import requests\n",
    "from bs4 import BeautifulSoup as BS\n",
    "\n",
    "url = \"http://www.paxnet.co.kr/stock/report/report?wlog_rpt=jm&menuCode=2222\"\n",
    "response = requests.get(url)\n",
    "html = response.content\n",
    "html = BS(html)\n",
    "\n",
    "#li 태그를 li_list에 저장\n",
    "div = html.find(\"div\", attrs = {\"class\":\"board-type\"})\n",
    "li_list = div.find_all(\"li\")"
   ]
  },
  {
   "cell_type": "code",
   "execution_count": 6,
   "id": "d46dd990-ff21-4c51-85d1-f2946b631cca",
   "metadata": {},
   "outputs": [
    {
     "name": "stdout",
     "output_type": "stream",
     "text": [
      "True\n",
      "False\n"
     ]
    }
   ],
   "source": [
    "#행 구분\n",
    "check_str = '<strong class=\"color-cate\"><span class=\"bracket\">'\n",
    "print(check_str in str(li_list[1]))\n",
    "print(check_str in str(li_list[0]))\n"
   ]
  },
  {
   "cell_type": "code",
   "execution_count": 17,
   "id": "c2c1154f-5e3b-4f63-9ae3-825e9c676909",
   "metadata": {},
   "outputs": [
    {
     "name": "stdout",
     "output_type": "stream",
     "text": [
      "현대차\n"
     ]
    }
   ],
   "source": [
    "#종목\n",
    "stock = li_list[1].find_all(\"a\")[0].text\n",
    "print(stock)"
   ]
  },
  {
   "cell_type": "code",
   "execution_count": 16,
   "id": "6c1c8822-582e-4470-9a7c-7694f6b56235",
   "metadata": {},
   "outputs": [
    {
     "name": "stdout",
     "output_type": "stream",
     "text": [
      "투싼의 전력! 하이브리드로 밀고 간다\n"
     ]
    }
   ],
   "source": [
    "#제목\n",
    "title = li_list[1].find_all(\"a\")[1].text\n",
    "print(title)"
   ]
  },
  {
   "cell_type": "code",
   "execution_count": 18,
   "id": "49f41325-c3de-4cf8-a775-2c85ce587d78",
   "metadata": {},
   "outputs": [
    {
     "data": {
      "text/plain": [
       "'320000'"
      ]
     },
     "metadata": {},
     "output_type": "display_data"
    }
   ],
   "source": [
    "#적정가격\n",
    "price = li_list[1].find(\"div\", attrs = {\"class\":\"line3\"}).text\n",
    "price = price.replace('\\r', '').replace('\\t', '').replace('\\n', '')\n",
    "price = price.split(' ')[1].replace(',', '')[:-1]\n",
    "display(price)"
   ]
  },
  {
   "cell_type": "code",
   "execution_count": 19,
   "id": "b05e816a-289c-408d-bfc7-02a8fe1652c0",
   "metadata": {},
   "outputs": [
    {
     "data": {
      "text/plain": [
       "'매수'"
      ]
     },
     "metadata": {},
     "output_type": "display_data"
    }
   ],
   "source": [
    "#의견\n",
    "opinion = li_list[1].find_all(\"div\", attrs = {\"class\":\"line3\"})[1].text\n",
    "opinion = opinion.replace('\\t', '').replace('\\n', '').replace('\\r', '')\n",
    "display(opinion)"
   ]
  },
  {
   "cell_type": "code",
   "execution_count": 20,
   "id": "a2b47fcd-b115-439d-bdc9-68059d6afa92",
   "metadata": {},
   "outputs": [
    {
     "data": {
      "text/plain": [
       "'하이투자증권'"
      ]
     },
     "metadata": {},
     "output_type": "display_data"
    }
   ],
   "source": [
    "#증권사의 이름\n",
    "trading_firm = li_list[1].find_all(\"div\", attrs = {\"class\":\"line3\"})[2].text\n",
    "display(trading_firm)"
   ]
  },
  {
   "cell_type": "code",
   "execution_count": 11,
   "id": "b21b09aa-4abb-4971-b688-deb7d4299b37",
   "metadata": {},
   "outputs": [
    {
     "data": {
      "text/plain": [
       "'2024.03.27'"
      ]
     },
     "metadata": {},
     "output_type": "display_data"
    }
   ],
   "source": [
    "#리포트 날짜\n",
    "date = li_list[1].find_all(\"div\", attrs = {\"class\":\"line3\"})[3].text\n",
    "display(date)"
   ]
  },
  {
   "cell_type": "code",
   "execution_count": 12,
   "id": "69696e2a-0a13-499a-8d88-b5a0fbcb14f4",
   "metadata": {},
   "outputs": [
    {
     "data": {
      "text/plain": [
       "Timestamp('2024-03-27 00:00:00')"
      ]
     },
     "metadata": {},
     "output_type": "display_data"
    }
   ],
   "source": [
    "#날짜형식으로 변환\n",
    "import pandas as pd\n",
    "date = pd.to_datetime(date)\n",
    "display(date)"
   ]
  },
  {
   "cell_type": "code",
   "execution_count": 8,
   "id": "6fe945fd-0bf5-4ba0-a18f-b87a3492e003",
   "metadata": {},
   "outputs": [],
   "source": [
    "#parsing 함수\n",
    "def parsing_li(li):\n",
    "    stock = li.find_all(\"a\")[0].text # 종목명\n",
    "    title = li.find_all(\"a\")[1].text # 리포트 제목\n",
    "    price = li.find(\"div\", attrs = {\"class\":\"line3\"}).text # 적정가격\n",
    "    price = price.replace('\\r', '').replace('\\t', '').replace('\\n', '')\n",
    "    price = price.split(' ')[1].replace(',', '')[:-1]\n",
    "    opinion = li.find_all(\"div\", attrs = {\"class\":\"line3\"})[1].text # 의견\n",
    "    opinion = opinion.replace('\\t', '').replace('\\n', '').replace('\\r', '')\n",
    "    trading_firm = li.find_all(\"div\", attrs = {\"class\":\"line3\"})[2].text # 증권사\n",
    "    date = li.find_all(\"div\", attrs = {\"class\":\"line3\"})[3].text # 날짜\n",
    "    date = pd.to_datetime(date)\n",
    "    \n",
    "    return [stock, title, price, opinion, trading_firm, date]"
   ]
  },
  {
   "cell_type": "code",
   "execution_count": 24,
   "id": "acc5f4e9-837f-41b3-bd59-4caef540883f",
   "metadata": {},
   "outputs": [
    {
     "name": "stdout",
     "output_type": "stream",
     "text": [
      "['현대차', '투싼의 전력! 하이브리드로 밀고 간다', '320000', '매수', '하이투자증권', Timestamp('2024-03-27 00:00:00')]\n"
     ]
    }
   ],
   "source": [
    "#리포트 요약\n",
    "print(parsing_li(li_list[1]))"
   ]
  },
  {
   "cell_type": "code",
   "execution_count": 25,
   "id": "07686c1d-e6a6-4ae1-9b22-b8873de326cc",
   "metadata": {},
   "outputs": [
    {
     "data": {
      "text/html": [
       "<div>\n",
       "<style scoped>\n",
       "    .dataframe tbody tr th:only-of-type {\n",
       "        vertical-align: middle;\n",
       "    }\n",
       "\n",
       "    .dataframe tbody tr th {\n",
       "        vertical-align: top;\n",
       "    }\n",
       "\n",
       "    .dataframe thead th {\n",
       "        text-align: right;\n",
       "    }\n",
       "</style>\n",
       "<table border=\"1\" class=\"dataframe\">\n",
       "  <thead>\n",
       "    <tr style=\"text-align: right;\">\n",
       "      <th></th>\n",
       "      <th>종목명</th>\n",
       "      <th>리포트제목</th>\n",
       "      <th>적정가격</th>\n",
       "      <th>의견</th>\n",
       "      <th>증권사</th>\n",
       "      <th>날짜</th>\n",
       "    </tr>\n",
       "  </thead>\n",
       "  <tbody>\n",
       "    <tr>\n",
       "      <th>0</th>\n",
       "      <td>현대차</td>\n",
       "      <td>투싼의 전력! 하이브리드로 밀고 간다</td>\n",
       "      <td>320000</td>\n",
       "      <td>매수</td>\n",
       "      <td>하이투자증권</td>\n",
       "      <td>2024-03-27</td>\n",
       "    </tr>\n",
       "    <tr>\n",
       "      <th>1</th>\n",
       "      <td>엘앤에프</td>\n",
       "      <td>고객사 다변화로 실적 성장 가시성 확보</td>\n",
       "      <td>255000</td>\n",
       "      <td>매수</td>\n",
       "      <td>하이투자증권</td>\n",
       "      <td>2024-03-27</td>\n",
       "    </tr>\n",
       "    <tr>\n",
       "      <th>2</th>\n",
       "      <td>대원강업</td>\n",
       "      <td>구동 모터 코어 양산의 시작은 올해 말</td>\n",
       "      <td>-</td>\n",
       "      <td>-</td>\n",
       "      <td>하이투자증권</td>\n",
       "      <td>2024-03-27</td>\n",
       "    </tr>\n",
       "    <tr>\n",
       "      <th>3</th>\n",
       "      <td>코리아에프티</td>\n",
       "      <td>하이브리드 캐니스터는 단가가 2배</td>\n",
       "      <td>-</td>\n",
       "      <td>매수</td>\n",
       "      <td>하이투자증권</td>\n",
       "      <td>2024-03-27</td>\n",
       "    </tr>\n",
       "    <tr>\n",
       "      <th>4</th>\n",
       "      <td>우리기술</td>\n",
       "      <td>원전이 이끌고 방산 및 PSD가 민다</td>\n",
       "      <td>-</td>\n",
       "      <td>-</td>\n",
       "      <td>하이투자증권</td>\n",
       "      <td>2024-03-26</td>\n",
       "    </tr>\n",
       "    <tr>\n",
       "      <th>5</th>\n",
       "      <td>아모그린텍</td>\n",
       "      <td>4년은 ESS 25년은 ESS + 전기차</td>\n",
       "      <td>17000</td>\n",
       "      <td>매수</td>\n",
       "      <td>대신증권</td>\n",
       "      <td>2024-03-26</td>\n",
       "    </tr>\n",
       "    <tr>\n",
       "      <th>6</th>\n",
       "      <td>엔비티</td>\n",
       "      <td>긁지 않은 복권</td>\n",
       "      <td>-</td>\n",
       "      <td>-</td>\n",
       "      <td>SK증권</td>\n",
       "      <td>2024-03-26</td>\n",
       "    </tr>\n",
       "    <tr>\n",
       "      <th>7</th>\n",
       "      <td>나스미디어</td>\n",
       "      <td>지금입니다</td>\n",
       "      <td>-</td>\n",
       "      <td>-</td>\n",
       "      <td>SK증권</td>\n",
       "      <td>2024-03-26</td>\n",
       "    </tr>\n",
       "    <tr>\n",
       "      <th>8</th>\n",
       "      <td>세경하이테크</td>\n",
       "      <td>돋보일 필름 장인의 질주</td>\n",
       "      <td>13000</td>\n",
       "      <td>매수</td>\n",
       "      <td>메리츠증권</td>\n",
       "      <td>2024-03-26</td>\n",
       "    </tr>\n",
       "    <tr>\n",
       "      <th>9</th>\n",
       "      <td>엘앤에프</td>\n",
       "      <td>SK On 향 계약, 전환점</td>\n",
       "      <td>-</td>\n",
       "      <td>-</td>\n",
       "      <td>메리츠증권</td>\n",
       "      <td>2024-03-26</td>\n",
       "    </tr>\n",
       "  </tbody>\n",
       "</table>\n",
       "</div>"
      ],
      "text/plain": [
       "      종목명                   리포트제목    적정가격  의견     증권사         날짜\n",
       "0     현대차    투싼의 전력! 하이브리드로 밀고 간다  320000  매수  하이투자증권 2024-03-27\n",
       "1    엘앤에프   고객사 다변화로 실적 성장 가시성 확보  255000  매수  하이투자증권 2024-03-27\n",
       "2    대원강업   구동 모터 코어 양산의 시작은 올해 말       -   -  하이투자증권 2024-03-27\n",
       "3  코리아에프티      하이브리드 캐니스터는 단가가 2배       -  매수  하이투자증권 2024-03-27\n",
       "4    우리기술    원전이 이끌고 방산 및 PSD가 민다       -   -  하이투자증권 2024-03-26\n",
       "5   아모그린텍  4년은 ESS 25년은 ESS + 전기차   17000  매수    대신증권 2024-03-26\n",
       "6     엔비티                긁지 않은 복권       -   -    SK증권 2024-03-26\n",
       "7   나스미디어                   지금입니다       -   -    SK증권 2024-03-26\n",
       "8  세경하이테크           돋보일 필름 장인의 질주   13000  매수   메리츠증권 2024-03-26\n",
       "9    엘앤에프         SK On 향 계약, 전환점       -   -   메리츠증권 2024-03-26"
      ]
     },
     "metadata": {},
     "output_type": "display_data"
    }
   ],
   "source": [
    "#코드 확장\n",
    "\n",
    "data = []\n",
    "for li in li_list:\n",
    "    if check_str in str(li):\n",
    "        record = parsing_li(li)\n",
    "        data.append(record)\n",
    "data = pd.DataFrame(data, columns = [\"종목명\", \"리포트제목\", \"적정가격\", \"의견\", \"증권사\", \"날짜\"])\n",
    "display(data.head(10))"
   ]
  },
  {
   "cell_type": "code",
   "execution_count": null,
   "id": "81502fb7-0be2-4067-b9d8-c6f513be894c",
   "metadata": {},
   "outputs": [],
   "source": [
    "import time\n",
    "import requests\n",
    "from bs4 import BeautifulSoup\n",
    "\n",
    "base_url = \"http://www.paxnet.co.kr/stock/report/report?menuCode=2222&currentPageNo={}&reportId=0&searchKey=stock&searchValue=\"\n",
    "data = []\n",
    "\n",
    "for page_no in range(1, 563):\n",
    "    # 웹 페이지 소스 가져오기\n",
    "    url = base_url.format(page_no)\n",
    "    while True:\n",
    "        response = requests.get(url)\n",
    "        if response.status_code == 200:\n",
    "            time.sleep(1)\n",
    "            break\n",
    "        else:\n",
    "            time.sleep(10 * 60)    \n",
    "    html = response.content\n",
    "    html = BeautifulSoup(html, 'html.parser')\n",
    "    \n",
    "    # 웹 페이지 소스에서 필요한 부분만 가져오기\n",
    "    div = html.find(\"div\", attrs={\"class\": \"board-type\"})\n",
    "    li_list = div.find_all(\"li\")\n",
    "    for li in li_list:\n",
    "        if check_str in str(li):\n",
    "            record = parsing_li(li)\n",
    "            data.append(record)\n",
    "\n",
    "data = pd.DataFrame(data, columns=[\"종목명\", \"리포트제목\", \"적정가격\", \"의견\", \"증권사\", \"날짜\"])\n",
    "  "
   ]
  },
  {
   "cell_type": "code",
   "execution_count": null,
   "id": "e4c1bb96-77c9-4621-b820-01072d398073",
   "metadata": {},
   "outputs": [],
   "source": [
    "#데이터 저장\n",
    "data.to_csv(\"/Users/yang-eun-yeol/Desktop/my_quant/종목리포트.txt\", sep = \"\\t\", encoding = \"euc-kr\", index = False)"
   ]
  },
  {
   "cell_type": "code",
   "execution_count": null,
   "id": "2445a560-e5d6-4d2e-8652-5c499d2cfe20",
   "metadata": {},
   "outputs": [],
   "source": [
    "#셀레니움\n",
    "#크롬 드라이버\n",
    "import selenium\n",
    "from selenium import webdriver\n",
    "driver = webdriver.Chrome() # 맥은 경로를 지정 안해도 되는 것 같다...\n",
    "#네이버 뉴스로 이동\n",
    "url = \"https://news.naver.com/\"\n",
    "driver.get(url)\n",
    "driver.implicitly_wait(10) \n",
    "\n"
   ]
  },
  {
   "cell_type": "code",
   "execution_count": null,
   "id": "279c847e-529a-4b21-aa0c-ab9c5b195898",
   "metadata": {},
   "outputs": [],
   "source": [
    "#페이지에 있는 요소 찾기\n",
    "from selenium.webdriver.common.by import By\n",
    "driver.get(url)\n",
    "driver.implicitly_wait(10) "
   ]
  },
  {
   "cell_type": "code",
   "execution_count": null,
   "id": "6bb2357b-2492-41d9-ba89-d79eff420ec4",
   "metadata": {},
   "outputs": [],
   "source": [
    "#잡 플래닛 기업 평점 수집 프로젝트\n",
    "\n",
    "#기본세팅\n",
    "from selenium import webdriver\n",
    "from selenium.webdriver.common.by import By\n",
    "driver = webdriver.Chrome()\n",
    "\n",
    "#회사 등록\n",
    "corp = \"SK하이닉스\"\n",
    "url = \"https://www.jobplanet.co.kr/companies/20561/reviews/%EC%97%90%EC%8A%A4%EC%BC%80%EC%9D%B4%ED%95%98%EC%9D%B4%EB%8B%89%EC%8A%A4\"\n",
    "\n",
    "# url 들어가기\n",
    "driver.get(url)\n",
    "driver.implicitly_wait(10)  #로딩 10초 까지\n",
    "\n",
    "# 팝업 창이 뜨면 끄기 \n",
    "try:\n",
    "    driver.find_element(By.CLASS_NAME, \"btn_close_x_ty1\").click() \n",
    "except:\n",
    "    pass\n",
    "review_list = driver.find_elements(By.CLASS_NAME, \"content_wrap\")\n",
    "review = review_list[0]\n",
    "date = review.find_elements(By.CLASS_NAME, \"txt1\")[-1].get_attribute('innerHTML')\n",
    "print(date)\n",
    "score_list = review.find_element(By.CLASS_NAME, \"ctbody_lft\") \n",
    "star_score = score_list.find_element(By.CLASS_NAME, \"star_score\").get_attribute('style')\n",
    "print(star_score)\n",
    "\n",
    "# 항목별 평점\n",
    "bl_score_list = score_list.find_elements(By.CLASS_NAME, \"bl_score\")\n",
    "welfare_salary = bl_score_list[0].get_attribute(\"style\")\n",
    "work_life_balance = bl_score_list[1].get_attribute(\"style\")\n",
    "culture = bl_score_list[2].get_attribute(\"style\")\n",
    "promotion_opp = bl_score_list[3].get_attribute(\"style\")\n",
    "management = bl_score_list[4].get_attribute(\"style\")\n",
    "print(welfare_salary, work_life_balance, culture, promotion_opp, management)\n",
    "\n",
    "def convert_width_to_score(width):\n",
    "    width_percent = int(width.split(' ')[1][:-2])\n",
    "    score = int(width_percent / 20)\n",
    "    return score\n",
    "\n",
    "print(convert_width_to_score(star_score))\n",
    "\n",
    "def extract_score_from_review(review):\n",
    "    # 출력 초기화\n",
    "    output = []\n",
    "    # 리뷰에서 평점과 관련된 부분만 가져오기\n",
    "    score_list = review.find_element(By.CLASS_NAME, \"ctbody_lft\")\n",
    "    # 총 평점 가져와서 추가\n",
    "    star_score = score_list.find_element(By.CLASS_NAME, \"star_score\").get_attribute('style')\n",
    "    output.append(convert_width_to_score(star_score))\n",
    "    # 항목별 평점 가져와서 추가\n",
    "    other_score_elements = score_list.find_elements(By.CLASS_NAME, \"bl_score\")\n",
    "    for element in other_score_elements:\n",
    "        output.append(convert_width_to_score(element.get_attribute(\"style\")))\n",
    "    return output\n",
    "\n",
    "print(extract_score_from_review(review))\n",
    "\n",
    "#리뷰들크롤링\n",
    "\n",
    "btn_pglast = driver.find_element(By.CLASS_NAME, \"btn_pglast\")\n",
    "num_pages = int(btn_pglast.get_attribute(\"href\").split('=')[1])\n",
    "\n",
    "#다음 페이지\n",
    "import time\n",
    "def get_url(driver, url):\n",
    "    while True:\n",
    "        try:\n",
    "            driver.get(url)\n",
    "            driver.implicitly_wait(10) # 페이지가 전부 로딩될때까지 최대 10초 기다리기\n",
    "            break\n",
    "        except:\n",
    "            driver.close()\n",
    "            driver = webdriver.Chrome('../chromedriver.exe')\n",
    "            time.sleep(60)\n",
    "\n",
    "#리뷰를 모으는 코드\n",
    "\n",
    "import pandas as pd\n",
    "input_data = pd.read_excel(\"/Users/yang-eun-yeol/Desktop/my_quant/데이터/종목별_잡플래닛url.xlsx\")\n",
    "data = [] \n",
    "\n",
    "for corp, url in input_data[['종목명', 'URL']].values:\n",
    "    # 초기 url 들어가기\n",
    "    get_url(driver, url)\n",
    "    # 전체 페이지 수 계산\n",
    "    btn_pglast = driver.find_element(By.CLASS_NAME, \"btn_pglast\")\n",
    "    num_pages = int(btn_pglast.get_attribute(\"href\").split('=')[1])\n",
    "    # 페이지 순회 시작\n",
    "    for page in range(num_pages - 1):\n",
    "        print(\"{}:{}/{}\".format(corp, page+1, num_pages))\n",
    "        current_url = url + \"?page={}\".format(page+1)\n",
    "        get_url(driver, current_url)\n",
    "\n",
    "        # 팝업 창이 뜨면 끄기 \n",
    "        try:\n",
    "            driver.find_element(By.CLASS_NAME, \"btn_close_x_ty1\").click()\n",
    "            time.sleep(0.5)\n",
    "        except:\n",
    "            pass\n",
    "        \n",
    "        # 현재 페이지에서 데이터 가져오기\n",
    "        while True:\n",
    "            time.sleep(0.5)\n",
    "            try:\n",
    "                temp = []\n",
    "                review_list = driver.find_elements(By.CLASS_NAME, \"content_wrap\")\n",
    "                for review in review_list:\n",
    "                    date = review.find_elements(By.CLASS_NAME, \"txt1\")[-1].get_attribute('innerHTML')\n",
    "                    score = extract_score_from_review(review)\n",
    "                    record = [corp, date] + score # score는 리스트임\n",
    "                    temp.append(record)\n",
    "                data += temp\n",
    "                break\n",
    "            except:\n",
    "                driver.close()\n",
    "                driver = webdriver.Chrome('../chromedriver.exe')\n",
    "                get_url(driver, current_url)\n",
    "                time.sleep(60)\n",
    "\n",
    "data = pd.DataFrame(data, columns = [\"기업\", \"날짜\", \"전체평점\", \"승진기회및가능성\", \"복지및급여\", \"업무와삶의균형\", \"사내문화\", \"경영진\"])"
   ]
  }
 ],
 "metadata": {
  "kernelspec": {
   "display_name": "Python 3 (ipykernel)",
   "language": "python",
   "name": "python3"
  },
  "language_info": {
   "codemirror_mode": {
    "name": "ipython",
    "version": 3
   },
   "file_extension": ".py",
   "mimetype": "text/x-python",
   "name": "python",
   "nbconvert_exporter": "python",
   "pygments_lexer": "ipython3",
   "version": "3.11.7"
  }
 },
 "nbformat": 4,
 "nbformat_minor": 5
}
